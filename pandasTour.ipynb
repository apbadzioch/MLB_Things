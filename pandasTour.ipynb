{
 "cells": [
  {
   "metadata": {
    "ExecuteTime": {
     "end_time": "2024-09-25T07:43:50.522189Z",
     "start_time": "2024-09-25T07:43:50.222329Z"
    }
   },
   "cell_type": "code",
   "source": "import pandas as pd",
   "id": "5b023330d1807d7b",
   "outputs": [],
   "execution_count": 1
  },
  {
   "metadata": {
    "ExecuteTime": {
     "end_time": "2024-09-25T07:43:50.543181Z",
     "start_time": "2024-09-25T07:43:50.530701Z"
    }
   },
   "cell_type": "code",
   "source": "pd.read_csv('data/movies.csv')",
   "id": "a0f844782616d78f",
   "outputs": [
    {
     "data": {
      "text/plain": [
       "     Rank                         Title           Studio       Gross  Year\n",
       "0       1             Avengers: Endgame      Buena Vista  $2,796.30   2019\n",
       "1       2                        Avatar              Fox  $2,789.70   2009\n",
       "2       3                       Titanic        Paramount  $2,187.50   1997\n",
       "3       4  Star Wars: The Force Awakens      Buena Vista  $2,068.20   2015\n",
       "4       5        Avengers: Infinity War      Buena Vista  $2,048.40   2018\n",
       "..    ...                           ...              ...         ...   ...\n",
       "777   778                     Yogi Bear  Warner Brothers    $201.60   2010\n",
       "778   779           Garfield: The Movie              Fox    $200.80   2004\n",
       "779   780                   Cats & Dogs  Warner Brothers    $200.70   2001\n",
       "780   781      The Hunt for Red October        Paramount    $200.50   1990\n",
       "781   782                      Valkyrie              MGM    $200.30   2008\n",
       "\n",
       "[782 rows x 5 columns]"
      ],
      "text/html": [
       "<div>\n",
       "<style scoped>\n",
       "    .dataframe tbody tr th:only-of-type {\n",
       "        vertical-align: middle;\n",
       "    }\n",
       "\n",
       "    .dataframe tbody tr th {\n",
       "        vertical-align: top;\n",
       "    }\n",
       "\n",
       "    .dataframe thead th {\n",
       "        text-align: right;\n",
       "    }\n",
       "</style>\n",
       "<table border=\"1\" class=\"dataframe\">\n",
       "  <thead>\n",
       "    <tr style=\"text-align: right;\">\n",
       "      <th></th>\n",
       "      <th>Rank</th>\n",
       "      <th>Title</th>\n",
       "      <th>Studio</th>\n",
       "      <th>Gross</th>\n",
       "      <th>Year</th>\n",
       "    </tr>\n",
       "  </thead>\n",
       "  <tbody>\n",
       "    <tr>\n",
       "      <th>0</th>\n",
       "      <td>1</td>\n",
       "      <td>Avengers: Endgame</td>\n",
       "      <td>Buena Vista</td>\n",
       "      <td>$2,796.30</td>\n",
       "      <td>2019</td>\n",
       "    </tr>\n",
       "    <tr>\n",
       "      <th>1</th>\n",
       "      <td>2</td>\n",
       "      <td>Avatar</td>\n",
       "      <td>Fox</td>\n",
       "      <td>$2,789.70</td>\n",
       "      <td>2009</td>\n",
       "    </tr>\n",
       "    <tr>\n",
       "      <th>2</th>\n",
       "      <td>3</td>\n",
       "      <td>Titanic</td>\n",
       "      <td>Paramount</td>\n",
       "      <td>$2,187.50</td>\n",
       "      <td>1997</td>\n",
       "    </tr>\n",
       "    <tr>\n",
       "      <th>3</th>\n",
       "      <td>4</td>\n",
       "      <td>Star Wars: The Force Awakens</td>\n",
       "      <td>Buena Vista</td>\n",
       "      <td>$2,068.20</td>\n",
       "      <td>2015</td>\n",
       "    </tr>\n",
       "    <tr>\n",
       "      <th>4</th>\n",
       "      <td>5</td>\n",
       "      <td>Avengers: Infinity War</td>\n",
       "      <td>Buena Vista</td>\n",
       "      <td>$2,048.40</td>\n",
       "      <td>2018</td>\n",
       "    </tr>\n",
       "    <tr>\n",
       "      <th>...</th>\n",
       "      <td>...</td>\n",
       "      <td>...</td>\n",
       "      <td>...</td>\n",
       "      <td>...</td>\n",
       "      <td>...</td>\n",
       "    </tr>\n",
       "    <tr>\n",
       "      <th>777</th>\n",
       "      <td>778</td>\n",
       "      <td>Yogi Bear</td>\n",
       "      <td>Warner Brothers</td>\n",
       "      <td>$201.60</td>\n",
       "      <td>2010</td>\n",
       "    </tr>\n",
       "    <tr>\n",
       "      <th>778</th>\n",
       "      <td>779</td>\n",
       "      <td>Garfield: The Movie</td>\n",
       "      <td>Fox</td>\n",
       "      <td>$200.80</td>\n",
       "      <td>2004</td>\n",
       "    </tr>\n",
       "    <tr>\n",
       "      <th>779</th>\n",
       "      <td>780</td>\n",
       "      <td>Cats &amp; Dogs</td>\n",
       "      <td>Warner Brothers</td>\n",
       "      <td>$200.70</td>\n",
       "      <td>2001</td>\n",
       "    </tr>\n",
       "    <tr>\n",
       "      <th>780</th>\n",
       "      <td>781</td>\n",
       "      <td>The Hunt for Red October</td>\n",
       "      <td>Paramount</td>\n",
       "      <td>$200.50</td>\n",
       "      <td>1990</td>\n",
       "    </tr>\n",
       "    <tr>\n",
       "      <th>781</th>\n",
       "      <td>782</td>\n",
       "      <td>Valkyrie</td>\n",
       "      <td>MGM</td>\n",
       "      <td>$200.30</td>\n",
       "      <td>2008</td>\n",
       "    </tr>\n",
       "  </tbody>\n",
       "</table>\n",
       "<p>782 rows × 5 columns</p>\n",
       "</div>"
      ]
     },
     "execution_count": 2,
     "metadata": {},
     "output_type": "execute_result"
    }
   ],
   "execution_count": 2
  },
  {
   "metadata": {
    "ExecuteTime": {
     "end_time": "2024-09-25T07:43:50.604789Z",
     "start_time": "2024-09-25T07:43:50.598644Z"
    }
   },
   "cell_type": "code",
   "source": [
    "# setting the index to title instead of the default number \n",
    "pd.read_csv('data/movies.csv', index_col = 'Title')"
   ],
   "id": "f8806de6f92691f2",
   "outputs": [
    {
     "data": {
      "text/plain": [
       "                              Rank           Studio       Gross  Year\n",
       "Title                                                                \n",
       "Avengers: Endgame                1      Buena Vista  $2,796.30   2019\n",
       "Avatar                           2              Fox  $2,789.70   2009\n",
       "Titanic                          3        Paramount  $2,187.50   1997\n",
       "Star Wars: The Force Awakens     4      Buena Vista  $2,068.20   2015\n",
       "Avengers: Infinity War           5      Buena Vista  $2,048.40   2018\n",
       "...                            ...              ...         ...   ...\n",
       "Yogi Bear                      778  Warner Brothers    $201.60   2010\n",
       "Garfield: The Movie            779              Fox    $200.80   2004\n",
       "Cats & Dogs                    780  Warner Brothers    $200.70   2001\n",
       "The Hunt for Red October       781        Paramount    $200.50   1990\n",
       "Valkyrie                       782              MGM    $200.30   2008\n",
       "\n",
       "[782 rows x 4 columns]"
      ],
      "text/html": [
       "<div>\n",
       "<style scoped>\n",
       "    .dataframe tbody tr th:only-of-type {\n",
       "        vertical-align: middle;\n",
       "    }\n",
       "\n",
       "    .dataframe tbody tr th {\n",
       "        vertical-align: top;\n",
       "    }\n",
       "\n",
       "    .dataframe thead th {\n",
       "        text-align: right;\n",
       "    }\n",
       "</style>\n",
       "<table border=\"1\" class=\"dataframe\">\n",
       "  <thead>\n",
       "    <tr style=\"text-align: right;\">\n",
       "      <th></th>\n",
       "      <th>Rank</th>\n",
       "      <th>Studio</th>\n",
       "      <th>Gross</th>\n",
       "      <th>Year</th>\n",
       "    </tr>\n",
       "    <tr>\n",
       "      <th>Title</th>\n",
       "      <th></th>\n",
       "      <th></th>\n",
       "      <th></th>\n",
       "      <th></th>\n",
       "    </tr>\n",
       "  </thead>\n",
       "  <tbody>\n",
       "    <tr>\n",
       "      <th>Avengers: Endgame</th>\n",
       "      <td>1</td>\n",
       "      <td>Buena Vista</td>\n",
       "      <td>$2,796.30</td>\n",
       "      <td>2019</td>\n",
       "    </tr>\n",
       "    <tr>\n",
       "      <th>Avatar</th>\n",
       "      <td>2</td>\n",
       "      <td>Fox</td>\n",
       "      <td>$2,789.70</td>\n",
       "      <td>2009</td>\n",
       "    </tr>\n",
       "    <tr>\n",
       "      <th>Titanic</th>\n",
       "      <td>3</td>\n",
       "      <td>Paramount</td>\n",
       "      <td>$2,187.50</td>\n",
       "      <td>1997</td>\n",
       "    </tr>\n",
       "    <tr>\n",
       "      <th>Star Wars: The Force Awakens</th>\n",
       "      <td>4</td>\n",
       "      <td>Buena Vista</td>\n",
       "      <td>$2,068.20</td>\n",
       "      <td>2015</td>\n",
       "    </tr>\n",
       "    <tr>\n",
       "      <th>Avengers: Infinity War</th>\n",
       "      <td>5</td>\n",
       "      <td>Buena Vista</td>\n",
       "      <td>$2,048.40</td>\n",
       "      <td>2018</td>\n",
       "    </tr>\n",
       "    <tr>\n",
       "      <th>...</th>\n",
       "      <td>...</td>\n",
       "      <td>...</td>\n",
       "      <td>...</td>\n",
       "      <td>...</td>\n",
       "    </tr>\n",
       "    <tr>\n",
       "      <th>Yogi Bear</th>\n",
       "      <td>778</td>\n",
       "      <td>Warner Brothers</td>\n",
       "      <td>$201.60</td>\n",
       "      <td>2010</td>\n",
       "    </tr>\n",
       "    <tr>\n",
       "      <th>Garfield: The Movie</th>\n",
       "      <td>779</td>\n",
       "      <td>Fox</td>\n",
       "      <td>$200.80</td>\n",
       "      <td>2004</td>\n",
       "    </tr>\n",
       "    <tr>\n",
       "      <th>Cats &amp; Dogs</th>\n",
       "      <td>780</td>\n",
       "      <td>Warner Brothers</td>\n",
       "      <td>$200.70</td>\n",
       "      <td>2001</td>\n",
       "    </tr>\n",
       "    <tr>\n",
       "      <th>The Hunt for Red October</th>\n",
       "      <td>781</td>\n",
       "      <td>Paramount</td>\n",
       "      <td>$200.50</td>\n",
       "      <td>1990</td>\n",
       "    </tr>\n",
       "    <tr>\n",
       "      <th>Valkyrie</th>\n",
       "      <td>782</td>\n",
       "      <td>MGM</td>\n",
       "      <td>$200.30</td>\n",
       "      <td>2008</td>\n",
       "    </tr>\n",
       "  </tbody>\n",
       "</table>\n",
       "<p>782 rows × 4 columns</p>\n",
       "</div>"
      ]
     },
     "execution_count": 3,
     "metadata": {},
     "output_type": "execute_result"
    }
   ],
   "execution_count": 3
  },
  {
   "metadata": {},
   "cell_type": "markdown",
   "source": [
    "### pandas imports the csv files contents into an object called a DataFrame (a container for storing data)\n",
    "- DataFrame: multi column data sets (comparable to a multi-column table in Excel)\n",
    "- Series: single-column data sets"
   ],
   "id": "60f0801b647714b4"
  },
  {
   "metadata": {
    "ExecuteTime": {
     "end_time": "2024-09-25T07:43:50.652661Z",
     "start_time": "2024-09-25T07:43:50.646523Z"
    }
   },
   "cell_type": "code",
   "source": [
    "# setting the DataFrame to a variable\n",
    "movies = pd.read_csv('data/movies.csv', index_col = 'Title')\n",
    "movies.head(4)"
   ],
   "id": "2f5733131a98ce0",
   "outputs": [
    {
     "data": {
      "text/plain": [
       "                              Rank       Studio       Gross  Year\n",
       "Title                                                            \n",
       "Avengers: Endgame                1  Buena Vista  $2,796.30   2019\n",
       "Avatar                           2          Fox  $2,789.70   2009\n",
       "Titanic                          3    Paramount  $2,187.50   1997\n",
       "Star Wars: The Force Awakens     4  Buena Vista  $2,068.20   2015"
      ],
      "text/html": [
       "<div>\n",
       "<style scoped>\n",
       "    .dataframe tbody tr th:only-of-type {\n",
       "        vertical-align: middle;\n",
       "    }\n",
       "\n",
       "    .dataframe tbody tr th {\n",
       "        vertical-align: top;\n",
       "    }\n",
       "\n",
       "    .dataframe thead th {\n",
       "        text-align: right;\n",
       "    }\n",
       "</style>\n",
       "<table border=\"1\" class=\"dataframe\">\n",
       "  <thead>\n",
       "    <tr style=\"text-align: right;\">\n",
       "      <th></th>\n",
       "      <th>Rank</th>\n",
       "      <th>Studio</th>\n",
       "      <th>Gross</th>\n",
       "      <th>Year</th>\n",
       "    </tr>\n",
       "    <tr>\n",
       "      <th>Title</th>\n",
       "      <th></th>\n",
       "      <th></th>\n",
       "      <th></th>\n",
       "      <th></th>\n",
       "    </tr>\n",
       "  </thead>\n",
       "  <tbody>\n",
       "    <tr>\n",
       "      <th>Avengers: Endgame</th>\n",
       "      <td>1</td>\n",
       "      <td>Buena Vista</td>\n",
       "      <td>$2,796.30</td>\n",
       "      <td>2019</td>\n",
       "    </tr>\n",
       "    <tr>\n",
       "      <th>Avatar</th>\n",
       "      <td>2</td>\n",
       "      <td>Fox</td>\n",
       "      <td>$2,789.70</td>\n",
       "      <td>2009</td>\n",
       "    </tr>\n",
       "    <tr>\n",
       "      <th>Titanic</th>\n",
       "      <td>3</td>\n",
       "      <td>Paramount</td>\n",
       "      <td>$2,187.50</td>\n",
       "      <td>1997</td>\n",
       "    </tr>\n",
       "    <tr>\n",
       "      <th>Star Wars: The Force Awakens</th>\n",
       "      <td>4</td>\n",
       "      <td>Buena Vista</td>\n",
       "      <td>$2,068.20</td>\n",
       "      <td>2015</td>\n",
       "    </tr>\n",
       "  </tbody>\n",
       "</table>\n",
       "</div>"
      ]
     },
     "execution_count": 4,
     "metadata": {},
     "output_type": "execute_result"
    }
   ],
   "execution_count": 4
  },
  {
   "metadata": {
    "ExecuteTime": {
     "end_time": "2024-09-25T07:43:50.736353Z",
     "start_time": "2024-09-25T07:43:50.732115Z"
    }
   },
   "cell_type": "code",
   "source": "movies.tail()",
   "id": "15c7d0942964e938",
   "outputs": [
    {
     "data": {
      "text/plain": [
       "                          Rank           Studio     Gross  Year\n",
       "Title                                                          \n",
       "Yogi Bear                  778  Warner Brothers  $201.60   2010\n",
       "Garfield: The Movie        779              Fox  $200.80   2004\n",
       "Cats & Dogs                780  Warner Brothers  $200.70   2001\n",
       "The Hunt for Red October   781        Paramount  $200.50   1990\n",
       "Valkyrie                   782              MGM  $200.30   2008"
      ],
      "text/html": [
       "<div>\n",
       "<style scoped>\n",
       "    .dataframe tbody tr th:only-of-type {\n",
       "        vertical-align: middle;\n",
       "    }\n",
       "\n",
       "    .dataframe tbody tr th {\n",
       "        vertical-align: top;\n",
       "    }\n",
       "\n",
       "    .dataframe thead th {\n",
       "        text-align: right;\n",
       "    }\n",
       "</style>\n",
       "<table border=\"1\" class=\"dataframe\">\n",
       "  <thead>\n",
       "    <tr style=\"text-align: right;\">\n",
       "      <th></th>\n",
       "      <th>Rank</th>\n",
       "      <th>Studio</th>\n",
       "      <th>Gross</th>\n",
       "      <th>Year</th>\n",
       "    </tr>\n",
       "    <tr>\n",
       "      <th>Title</th>\n",
       "      <th></th>\n",
       "      <th></th>\n",
       "      <th></th>\n",
       "      <th></th>\n",
       "    </tr>\n",
       "  </thead>\n",
       "  <tbody>\n",
       "    <tr>\n",
       "      <th>Yogi Bear</th>\n",
       "      <td>778</td>\n",
       "      <td>Warner Brothers</td>\n",
       "      <td>$201.60</td>\n",
       "      <td>2010</td>\n",
       "    </tr>\n",
       "    <tr>\n",
       "      <th>Garfield: The Movie</th>\n",
       "      <td>779</td>\n",
       "      <td>Fox</td>\n",
       "      <td>$200.80</td>\n",
       "      <td>2004</td>\n",
       "    </tr>\n",
       "    <tr>\n",
       "      <th>Cats &amp; Dogs</th>\n",
       "      <td>780</td>\n",
       "      <td>Warner Brothers</td>\n",
       "      <td>$200.70</td>\n",
       "      <td>2001</td>\n",
       "    </tr>\n",
       "    <tr>\n",
       "      <th>The Hunt for Red October</th>\n",
       "      <td>781</td>\n",
       "      <td>Paramount</td>\n",
       "      <td>$200.50</td>\n",
       "      <td>1990</td>\n",
       "    </tr>\n",
       "    <tr>\n",
       "      <th>Valkyrie</th>\n",
       "      <td>782</td>\n",
       "      <td>MGM</td>\n",
       "      <td>$200.30</td>\n",
       "      <td>2008</td>\n",
       "    </tr>\n",
       "  </tbody>\n",
       "</table>\n",
       "</div>"
      ]
     },
     "execution_count": 5,
     "metadata": {},
     "output_type": "execute_result"
    }
   ],
   "execution_count": 5
  },
  {
   "metadata": {
    "ExecuteTime": {
     "end_time": "2024-09-25T07:43:50.789120Z",
     "start_time": "2024-09-25T07:43:50.785218Z"
    }
   },
   "cell_type": "code",
   "source": "movies.shape",
   "id": "121481fb151d488",
   "outputs": [
    {
     "data": {
      "text/plain": [
       "(782, 4)"
      ]
     },
     "execution_count": 6,
     "metadata": {},
     "output_type": "execute_result"
    }
   ],
   "execution_count": 6
  },
  {
   "metadata": {
    "ExecuteTime": {
     "end_time": "2024-09-25T07:43:50.830084Z",
     "start_time": "2024-09-25T07:43:50.826742Z"
    }
   },
   "cell_type": "code",
   "source": "movies.size",
   "id": "35648bd67db415e6",
   "outputs": [
    {
     "data": {
      "text/plain": [
       "3128"
      ]
     },
     "execution_count": 7,
     "metadata": {},
     "output_type": "execute_result"
    }
   ],
   "execution_count": 7
  },
  {
   "metadata": {
    "ExecuteTime": {
     "end_time": "2024-09-25T07:43:50.862552Z",
     "start_time": "2024-09-25T07:43:50.858415Z"
    }
   },
   "cell_type": "code",
   "source": [
    "# this will return a Series (a single column of data) from the DataFrame from its numerical location\n",
    "# use .iloc[] when using numbers\n",
    "movies.iloc[33]"
   ],
   "id": "882501d764417e64",
   "outputs": [
    {
     "data": {
      "text/plain": [
       "Rank               34\n",
       "Studio    Buena Vista\n",
       "Gross      $1,028.60 \n",
       "Year             2016\n",
       "Name: Finding Dory, dtype: object"
      ]
     },
     "execution_count": 8,
     "metadata": {},
     "output_type": "execute_result"
    }
   ],
   "execution_count": 8
  },
  {
   "metadata": {
    "ExecuteTime": {
     "end_time": "2024-09-25T07:43:50.893132Z",
     "start_time": "2024-09-25T07:43:50.889503Z"
    }
   },
   "cell_type": "code",
   "source": [
    "# extracting info by its index label\n",
    "# use .loc[] when using a string\n",
    "movies.loc['Forrest Gump']"
   ],
   "id": "7f4e15a6e4daa6a6",
   "outputs": [
    {
     "data": {
      "text/plain": [
       "Rank            119\n",
       "Studio    Paramount\n",
       "Gross      $677.90 \n",
       "Year           1994\n",
       "Name: Forrest Gump, dtype: object"
      ]
     },
     "execution_count": 9,
     "metadata": {},
     "output_type": "execute_result"
    }
   ],
   "execution_count": 9
  },
  {
   "metadata": {
    "ExecuteTime": {
     "end_time": "2024-09-25T07:43:50.943332Z",
     "start_time": "2024-09-25T07:43:50.940154Z"
    }
   },
   "cell_type": "code",
   "source": "movies['Studio']",
   "id": "a9fc122fbf990ea5",
   "outputs": [
    {
     "data": {
      "text/plain": [
       "Title\n",
       "Avengers: Endgame                   Buena Vista\n",
       "Avatar                                      Fox\n",
       "Titanic                               Paramount\n",
       "Star Wars: The Force Awakens        Buena Vista\n",
       "Avengers: Infinity War              Buena Vista\n",
       "                                     ...       \n",
       "Yogi Bear                       Warner Brothers\n",
       "Garfield: The Movie                         Fox\n",
       "Cats & Dogs                     Warner Brothers\n",
       "The Hunt for Red October              Paramount\n",
       "Valkyrie                                    MGM\n",
       "Name: Studio, Length: 782, dtype: object"
      ]
     },
     "execution_count": 10,
     "metadata": {},
     "output_type": "execute_result"
    }
   ],
   "execution_count": 10
  },
  {
   "metadata": {
    "ExecuteTime": {
     "end_time": "2024-09-25T07:43:50.996025Z",
     "start_time": "2024-09-25T07:43:50.992617Z"
    }
   },
   "cell_type": "code",
   "source": "movies['Studio'].value_counts().head()",
   "id": "51bbf5f48db8d9f9",
   "outputs": [
    {
     "data": {
      "text/plain": [
       "Studio\n",
       "Warner Brothers    132\n",
       "Buena Vista        125\n",
       "Fox                117\n",
       "Universal          109\n",
       "Sony                86\n",
       "Name: count, dtype: int64"
      ]
     },
     "execution_count": 11,
     "metadata": {},
     "output_type": "execute_result"
    }
   ],
   "execution_count": 11
  },
  {
   "metadata": {
    "ExecuteTime": {
     "end_time": "2024-09-25T07:43:51.055392Z",
     "start_time": "2024-09-25T07:43:51.050078Z"
    }
   },
   "cell_type": "code",
   "source": "movies[movies['Studio'] == 'Universal']",
   "id": "da848fbd5a1ced5e",
   "outputs": [
    {
     "data": {
      "text/plain": [
       "                                Rank     Studio       Gross  Year\n",
       "Title                                                            \n",
       "Jurassic World                     6  Universal  $1,671.70   2015\n",
       "Furious 7                          8  Universal  $1,516.00   2015\n",
       "Jurassic World: Fallen Kingdom    13  Universal  $1,309.50   2018\n",
       "The Fate of the Furious           17  Universal  $1,236.00   2017\n",
       "Minions                           19  Universal  $1,159.40   2015\n",
       "...                              ...        ...         ...   ...\n",
       "The Break-Up                     763  Universal    $205.00   2006\n",
       "Everest                          766  Universal    $203.40   2015\n",
       "Patch Adams                      772  Universal    $202.30   1998\n",
       "Kindergarten Cop                 775  Universal    $202.00   1990\n",
       "Straight Outta Compton           776  Universal    $201.60   2015\n",
       "\n",
       "[109 rows x 4 columns]"
      ],
      "text/html": [
       "<div>\n",
       "<style scoped>\n",
       "    .dataframe tbody tr th:only-of-type {\n",
       "        vertical-align: middle;\n",
       "    }\n",
       "\n",
       "    .dataframe tbody tr th {\n",
       "        vertical-align: top;\n",
       "    }\n",
       "\n",
       "    .dataframe thead th {\n",
       "        text-align: right;\n",
       "    }\n",
       "</style>\n",
       "<table border=\"1\" class=\"dataframe\">\n",
       "  <thead>\n",
       "    <tr style=\"text-align: right;\">\n",
       "      <th></th>\n",
       "      <th>Rank</th>\n",
       "      <th>Studio</th>\n",
       "      <th>Gross</th>\n",
       "      <th>Year</th>\n",
       "    </tr>\n",
       "    <tr>\n",
       "      <th>Title</th>\n",
       "      <th></th>\n",
       "      <th></th>\n",
       "      <th></th>\n",
       "      <th></th>\n",
       "    </tr>\n",
       "  </thead>\n",
       "  <tbody>\n",
       "    <tr>\n",
       "      <th>Jurassic World</th>\n",
       "      <td>6</td>\n",
       "      <td>Universal</td>\n",
       "      <td>$1,671.70</td>\n",
       "      <td>2015</td>\n",
       "    </tr>\n",
       "    <tr>\n",
       "      <th>Furious 7</th>\n",
       "      <td>8</td>\n",
       "      <td>Universal</td>\n",
       "      <td>$1,516.00</td>\n",
       "      <td>2015</td>\n",
       "    </tr>\n",
       "    <tr>\n",
       "      <th>Jurassic World: Fallen Kingdom</th>\n",
       "      <td>13</td>\n",
       "      <td>Universal</td>\n",
       "      <td>$1,309.50</td>\n",
       "      <td>2018</td>\n",
       "    </tr>\n",
       "    <tr>\n",
       "      <th>The Fate of the Furious</th>\n",
       "      <td>17</td>\n",
       "      <td>Universal</td>\n",
       "      <td>$1,236.00</td>\n",
       "      <td>2017</td>\n",
       "    </tr>\n",
       "    <tr>\n",
       "      <th>Minions</th>\n",
       "      <td>19</td>\n",
       "      <td>Universal</td>\n",
       "      <td>$1,159.40</td>\n",
       "      <td>2015</td>\n",
       "    </tr>\n",
       "    <tr>\n",
       "      <th>...</th>\n",
       "      <td>...</td>\n",
       "      <td>...</td>\n",
       "      <td>...</td>\n",
       "      <td>...</td>\n",
       "    </tr>\n",
       "    <tr>\n",
       "      <th>The Break-Up</th>\n",
       "      <td>763</td>\n",
       "      <td>Universal</td>\n",
       "      <td>$205.00</td>\n",
       "      <td>2006</td>\n",
       "    </tr>\n",
       "    <tr>\n",
       "      <th>Everest</th>\n",
       "      <td>766</td>\n",
       "      <td>Universal</td>\n",
       "      <td>$203.40</td>\n",
       "      <td>2015</td>\n",
       "    </tr>\n",
       "    <tr>\n",
       "      <th>Patch Adams</th>\n",
       "      <td>772</td>\n",
       "      <td>Universal</td>\n",
       "      <td>$202.30</td>\n",
       "      <td>1998</td>\n",
       "    </tr>\n",
       "    <tr>\n",
       "      <th>Kindergarten Cop</th>\n",
       "      <td>775</td>\n",
       "      <td>Universal</td>\n",
       "      <td>$202.00</td>\n",
       "      <td>1990</td>\n",
       "    </tr>\n",
       "    <tr>\n",
       "      <th>Straight Outta Compton</th>\n",
       "      <td>776</td>\n",
       "      <td>Universal</td>\n",
       "      <td>$201.60</td>\n",
       "      <td>2015</td>\n",
       "    </tr>\n",
       "  </tbody>\n",
       "</table>\n",
       "<p>109 rows × 4 columns</p>\n",
       "</div>"
      ]
     },
     "execution_count": 12,
     "metadata": {},
     "output_type": "execute_result"
    }
   ],
   "execution_count": 12
  },
  {
   "metadata": {
    "ExecuteTime": {
     "end_time": "2024-09-25T07:47:45.427423Z",
     "start_time": "2024-09-25T07:47:45.425635Z"
    }
   },
   "cell_type": "code",
   "source": "",
   "id": "bfc3df254b373436",
   "outputs": [],
   "execution_count": null
  }
 ],
 "metadata": {
  "kernelspec": {
   "display_name": "Python 3",
   "language": "python",
   "name": "python3"
  },
  "language_info": {
   "codemirror_mode": {
    "name": "ipython",
    "version": 2
   },
   "file_extension": ".py",
   "mimetype": "text/x-python",
   "name": "python",
   "nbconvert_exporter": "python",
   "pygments_lexer": "ipython2",
   "version": "2.7.6"
  }
 },
 "nbformat": 4,
 "nbformat_minor": 5
}
