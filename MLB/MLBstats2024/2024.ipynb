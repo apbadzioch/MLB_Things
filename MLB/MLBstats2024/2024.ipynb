{
 "cells": [
  {
   "cell_type": "code",
   "id": "initial_id",
   "metadata": {
    "collapsed": true,
    "ExecuteTime": {
     "end_time": "2024-10-29T05:06:50.045946Z",
     "start_time": "2024-10-29T05:06:50.044232Z"
    }
   },
   "source": [
    "import numpy as np\n",
    "import pandas as pd\n",
    "\n",
    "import matplotlib.pyplot as plt\n",
    "import seaborn as sns\n",
    "\n",
    "import warnings\n",
    "warnings.filterwarnings('ignore')"
   ],
   "outputs": [],
   "execution_count": 1
  },
  {
   "cell_type": "code",
   "id": "5d136e07dea9d853",
   "metadata": {
    "ExecuteTime": {
     "end_time": "2024-10-29T05:06:54.582106Z",
     "start_time": "2024-10-29T05:06:54.564979Z"
    }
   },
   "source": [
    "df = pd.read_csv('/Users/andrewbadzioch/Desktop/pandasPractice/data/2024schedule.csv')"
   ],
   "outputs": [],
   "execution_count": 2
  },
  {
   "cell_type": "code",
   "id": "a006190f6aa388ea",
   "metadata": {
    "ExecuteTime": {
     "end_time": "2024-10-29T05:08:00.540720Z",
     "start_time": "2024-10-29T05:08:00.530955Z"
    }
   },
   "source": [
    "mlb = df.copy()\n",
    "mlb.head()"
   ],
   "outputs": [
    {
     "data": {
      "text/plain": [
       "       Date  Num        Day Visitor League  Game Home League.1  Game.1  \\\n",
       "0  20240320    0  Wednesday     LAN     NL     1  SDN       NL       1   \n",
       "1  20240321    0   Thursday     SDN     NL     2  LAN       NL       2   \n",
       "2  20240328    0   Thursday     MIL     NL     1  NYN       NL       1   \n",
       "3  20240328    0   Thursday     ANA     AL     1  BAL       AL       1   \n",
       "4  20240328    0   Thursday     ATL     NL     1  PHI       NL       1   \n",
       "\n",
       "  Day/Night Location  Postponed  Makeup  \n",
       "0         n    SEO01        NaN     NaN  \n",
       "1         n    SEO01        NaN     NaN  \n",
       "2         d    NYC20        NaN     NaN  \n",
       "3         d    BAL12        NaN     NaN  \n",
       "4         d    PHI13        NaN     NaN  "
      ],
      "text/html": [
       "<div>\n",
       "<style scoped>\n",
       "    .dataframe tbody tr th:only-of-type {\n",
       "        vertical-align: middle;\n",
       "    }\n",
       "\n",
       "    .dataframe tbody tr th {\n",
       "        vertical-align: top;\n",
       "    }\n",
       "\n",
       "    .dataframe thead th {\n",
       "        text-align: right;\n",
       "    }\n",
       "</style>\n",
       "<table border=\"1\" class=\"dataframe\">\n",
       "  <thead>\n",
       "    <tr style=\"text-align: right;\">\n",
       "      <th></th>\n",
       "      <th>Date</th>\n",
       "      <th>Num</th>\n",
       "      <th>Day</th>\n",
       "      <th>Visitor</th>\n",
       "      <th>League</th>\n",
       "      <th>Game</th>\n",
       "      <th>Home</th>\n",
       "      <th>League.1</th>\n",
       "      <th>Game.1</th>\n",
       "      <th>Day/Night</th>\n",
       "      <th>Location</th>\n",
       "      <th>Postponed</th>\n",
       "      <th>Makeup</th>\n",
       "    </tr>\n",
       "  </thead>\n",
       "  <tbody>\n",
       "    <tr>\n",
       "      <th>0</th>\n",
       "      <td>20240320</td>\n",
       "      <td>0</td>\n",
       "      <td>Wednesday</td>\n",
       "      <td>LAN</td>\n",
       "      <td>NL</td>\n",
       "      <td>1</td>\n",
       "      <td>SDN</td>\n",
       "      <td>NL</td>\n",
       "      <td>1</td>\n",
       "      <td>n</td>\n",
       "      <td>SEO01</td>\n",
       "      <td>NaN</td>\n",
       "      <td>NaN</td>\n",
       "    </tr>\n",
       "    <tr>\n",
       "      <th>1</th>\n",
       "      <td>20240321</td>\n",
       "      <td>0</td>\n",
       "      <td>Thursday</td>\n",
       "      <td>SDN</td>\n",
       "      <td>NL</td>\n",
       "      <td>2</td>\n",
       "      <td>LAN</td>\n",
       "      <td>NL</td>\n",
       "      <td>2</td>\n",
       "      <td>n</td>\n",
       "      <td>SEO01</td>\n",
       "      <td>NaN</td>\n",
       "      <td>NaN</td>\n",
       "    </tr>\n",
       "    <tr>\n",
       "      <th>2</th>\n",
       "      <td>20240328</td>\n",
       "      <td>0</td>\n",
       "      <td>Thursday</td>\n",
       "      <td>MIL</td>\n",
       "      <td>NL</td>\n",
       "      <td>1</td>\n",
       "      <td>NYN</td>\n",
       "      <td>NL</td>\n",
       "      <td>1</td>\n",
       "      <td>d</td>\n",
       "      <td>NYC20</td>\n",
       "      <td>NaN</td>\n",
       "      <td>NaN</td>\n",
       "    </tr>\n",
       "    <tr>\n",
       "      <th>3</th>\n",
       "      <td>20240328</td>\n",
       "      <td>0</td>\n",
       "      <td>Thursday</td>\n",
       "      <td>ANA</td>\n",
       "      <td>AL</td>\n",
       "      <td>1</td>\n",
       "      <td>BAL</td>\n",
       "      <td>AL</td>\n",
       "      <td>1</td>\n",
       "      <td>d</td>\n",
       "      <td>BAL12</td>\n",
       "      <td>NaN</td>\n",
       "      <td>NaN</td>\n",
       "    </tr>\n",
       "    <tr>\n",
       "      <th>4</th>\n",
       "      <td>20240328</td>\n",
       "      <td>0</td>\n",
       "      <td>Thursday</td>\n",
       "      <td>ATL</td>\n",
       "      <td>NL</td>\n",
       "      <td>1</td>\n",
       "      <td>PHI</td>\n",
       "      <td>NL</td>\n",
       "      <td>1</td>\n",
       "      <td>d</td>\n",
       "      <td>PHI13</td>\n",
       "      <td>NaN</td>\n",
       "      <td>NaN</td>\n",
       "    </tr>\n",
       "  </tbody>\n",
       "</table>\n",
       "</div>"
      ]
     },
     "execution_count": 3,
     "metadata": {},
     "output_type": "execute_result"
    }
   ],
   "execution_count": 3
  },
  {
   "metadata": {
    "ExecuteTime": {
     "end_time": "2024-10-29T05:08:18.794964Z",
     "start_time": "2024-10-29T05:08:18.780519Z"
    }
   },
   "cell_type": "code",
   "source": "mlb.info()",
   "id": "aa353a3263818f5d",
   "outputs": [
    {
     "name": "stdout",
     "output_type": "stream",
     "text": [
      "<class 'pandas.core.frame.DataFrame'>\n",
      "RangeIndex: 2430 entries, 0 to 2429\n",
      "Data columns (total 13 columns):\n",
      " #   Column     Non-Null Count  Dtype  \n",
      "---  ------     --------------  -----  \n",
      " 0   Date       2430 non-null   int64  \n",
      " 1   Num        2430 non-null   int64  \n",
      " 2   Day        2430 non-null   object \n",
      " 3   Visitor    2430 non-null   object \n",
      " 4   League     2430 non-null   object \n",
      " 5   Game       2430 non-null   int64  \n",
      " 6   Home       2430 non-null   object \n",
      " 7   League.1   2430 non-null   object \n",
      " 8   Game.1     2430 non-null   int64  \n",
      " 9   Day/Night  2430 non-null   object \n",
      " 10  Location   2430 non-null   object \n",
      " 11  Postponed  0 non-null      float64\n",
      " 12  Makeup     0 non-null      float64\n",
      "dtypes: float64(2), int64(4), object(7)\n",
      "memory usage: 246.9+ KB\n"
     ]
    }
   ],
   "execution_count": 4
  },
  {
   "metadata": {},
   "cell_type": "markdown",
   "source": [
    "**Working with Attributes**\n",
    "- shape\n",
    "- size"
   ],
   "id": "4a3c3626892f4844"
  },
  {
   "metadata": {
    "ExecuteTime": {
     "end_time": "2024-10-29T05:29:29.512567Z",
     "start_time": "2024-10-29T05:29:29.502594Z"
    }
   },
   "cell_type": "code",
   "source": "mlb.shape",
   "id": "5642fe048ef711b4",
   "outputs": [
    {
     "data": {
      "text/plain": [
       "(2430, 13)"
      ]
     },
     "execution_count": 8,
     "metadata": {},
     "output_type": "execute_result"
    }
   ],
   "execution_count": 8
  },
  {
   "metadata": {
    "ExecuteTime": {
     "end_time": "2024-10-29T05:29:36.070883Z",
     "start_time": "2024-10-29T05:29:36.066853Z"
    }
   },
   "cell_type": "code",
   "source": "mlb.size",
   "id": "6d57ec6d1bd68853",
   "outputs": [
    {
     "data": {
      "text/plain": [
       "31590"
      ]
     },
     "execution_count": 9,
     "metadata": {},
     "output_type": "execute_result"
    }
   ],
   "execution_count": 9
  },
  {
   "metadata": {
    "ExecuteTime": {
     "end_time": "2024-10-29T05:30:55.679667Z",
     "start_time": "2024-10-29T05:30:55.671114Z"
    }
   },
   "cell_type": "code",
   "source": "mlb.iloc[455]",
   "id": "c0cbbb59828105d4",
   "outputs": [
    {
     "data": {
      "text/plain": [
       "Date         20240430\n",
       "Num                 0\n",
       "Day           Tuesday\n",
       "Visitor           ATL\n",
       "League             NL\n",
       "Game               30\n",
       "Home              SEA\n",
       "League.1           AL\n",
       "Game.1             30\n",
       "Day/Night           n\n",
       "Location        SEA03\n",
       "Postponed         NaN\n",
       "Makeup            NaN\n",
       "Name: 455, dtype: object"
      ]
     },
     "execution_count": 10,
     "metadata": {},
     "output_type": "execute_result"
    }
   ],
   "execution_count": 10
  },
  {
   "metadata": {},
   "cell_type": "code",
   "outputs": [],
   "execution_count": null,
   "source": "",
   "id": "254432b364765e7c"
  }
 ],
 "metadata": {
  "kernelspec": {
   "display_name": "base",
   "language": "python",
   "name": "python3"
  },
  "language_info": {
   "codemirror_mode": {
    "name": "ipython",
    "version": 3
   },
   "file_extension": ".py",
   "mimetype": "text/x-python",
   "name": "python",
   "nbconvert_exporter": "python",
   "pygments_lexer": "ipython3",
   "version": "3.11.7"
  }
 },
 "nbformat": 4,
 "nbformat_minor": 5
}
