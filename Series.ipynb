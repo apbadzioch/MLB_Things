{
 "cells": [
  {
   "cell_type": "markdown",
   "id": "3b7a274720fc7cd0",
   "metadata": {},
   "source": [
    "# The Series Object"
   ]
  },
  {
   "cell_type": "markdown",
   "id": "397e1770",
   "metadata": {},
   "source": [
    "**Chapter Overview:**\n",
    "- instantiating Series objects from lists, dictionaries, tuples, and others\n",
    "- setting a custom index on a Series\n",
    "- accessing attributes and invoking methods on a Series\n",
    "- performing mathematical operations on one or more Series\n",
    "- passing the Series to Python's built-in functions"
   ]
  },
  {
   "cell_type": "code",
   "execution_count": 1,
   "id": "initial_id",
   "metadata": {
    "ExecuteTime": {
     "end_time": "2024-09-17T05:51:05.461363Z",
     "start_time": "2024-09-17T05:51:04.893751Z"
    },
    "collapsed": true
   },
   "outputs": [],
   "source": [
    "import pandas as pd\n",
    "import numpy as np"
   ]
  },
  {
   "cell_type": "markdown",
   "id": "c1dad6b8",
   "metadata": {},
   "source": [
    "- Pandas assigns each Series value a label (an identifier used to locate the value)\n",
    "- the library also assigns each Series value an order (a position in line)\n",
    "- "
   ]
  },
  {
   "cell_type": "markdown",
   "id": "f533dcd6136bba45",
   "metadata": {},
   "source": [
    "### Classes and Instances\n",
    "- a Class is a blueprint for a Python object\n",
    "- the pd.Series class is a template, and the next step is to create a concrete instance of it."
   ]
  },
  {
   "cell_type": "code",
   "execution_count": 2,
   "id": "cf7d39b3efe80ab7",
   "metadata": {
    "ExecuteTime": {
     "end_time": "2024-09-17T05:51:05.479804Z",
     "start_time": "2024-09-17T05:51:05.474591Z"
    }
   },
   "outputs": [
    {
     "data": {
      "text/plain": [
       "Series([], dtype: object)"
      ]
     },
     "execution_count": 2,
     "metadata": {},
     "output_type": "execute_result"
    }
   ],
   "source": [
    "# creating an instance from the class\n",
    "pd.Series()"
   ]
  },
  {
   "cell_type": "markdown",
   "id": "e32ccb8f",
   "metadata": {},
   "source": [
    "- a constructor is a method that builds an object from a class\n",
    "- an argument is an imput we pass to a method\n",
    "\n",
    "- variable = ['Python', 'list']\n",
    "- pd.Series(variable)\n",
    "- pd.Series is the constructor and variable is the argument"
   ]
  },
  {
   "cell_type": "code",
   "execution_count": 3,
   "id": "7fa3fa987cb633e1",
   "metadata": {
    "ExecuteTime": {
     "end_time": "2024-09-17T06:06:14.278422Z",
     "start_time": "2024-09-17T06:06:14.272878Z"
    }
   },
   "outputs": [
    {
     "data": {
      "text/plain": [
       "0            Chocolate\n",
       "1              Vanilla\n",
       "2           Strawberry\n",
       "3    Cookies and Cream\n",
       "dtype: object"
      ]
     },
     "execution_count": 3,
     "metadata": {},
     "output_type": "execute_result"
    }
   ],
   "source": [
    "# Series object from a Python list\n",
    "\n",
    "# a constructor is a method that builds an object. Here, Series() is the constructor that creates the object\n",
    "\n",
    "# an argument is an input passed to a method, here the variable\n",
    "\n",
    "ice_cream_flavors = [\"Chocolate\", \"Vanilla\", \"Strawberry\", \"Cookies and Cream\"]\n",
    "pd.Series(ice_cream_flavors)"
   ]
  },
  {
   "cell_type": "markdown",
   "id": "90cd92ff",
   "metadata": {},
   "source": [
    "- a parameter is a name given to an expected input to a function or method\n",
    "- it is what shows up witnin the parenthesis for something like pd.Series\n",
    "- Series constructor parameters: (data, index, dtype, name, copy, fastpath)"
   ]
  },
  {
   "cell_type": "code",
   "execution_count": 8,
   "id": "58dda444",
   "metadata": {},
   "outputs": [
    {
     "data": {
      "text/plain": [
       "monday               Chocolate\n",
       "wednesday              Vanilla\n",
       "friday              Strawberry\n",
       "saturaday    Cookies and Cream\n",
       "dtype: object"
      ]
     },
     "execution_count": 8,
     "metadata": {},
     "output_type": "execute_result"
    }
   ],
   "source": [
    "# setting a custom index\n",
    "pd.Series(ice_cream_flavors, index=['monday', 'wednesday', 'friday', 'saturaday'])"
   ]
  },
  {
   "cell_type": "code",
   "execution_count": 9,
   "id": "059d4803",
   "metadata": {},
   "outputs": [
    {
     "data": {
      "text/plain": [
       "open     985.90\n",
       "close    950.43\n",
       "dtype: float64"
      ]
     },
     "execution_count": 9,
     "metadata": {},
     "output_type": "execute_result"
    }
   ],
   "source": [
    "stock_prices = (985.9, 950.43)\n",
    "time_of_day = ('open', 'close')\n",
    "pd.Series(data=stock_prices, index=time_of_day)"
   ]
  },
  {
   "cell_type": "code",
   "execution_count": 4,
   "id": "dd539096aa8034e6",
   "metadata": {
    "ExecuteTime": {
     "end_time": "2024-09-17T06:25:31.389386Z",
     "start_time": "2024-09-17T06:25:31.363308Z"
    }
   },
   "outputs": [
    {
     "data": {
      "text/plain": [
       "Cereal              125\n",
       "Chocolate Bar       406\n",
       "Ice Cream Sundae    342\n",
       "dtype: int64"
      ]
     },
     "execution_count": 4,
     "metadata": {},
     "output_type": "execute_result"
    }
   ],
   "source": [
    "# creating a Series from Python object, a dictionary\n",
    "\n",
    "calorie_info = {\n",
    "    'Cereal': 125,\n",
    "    'Chocolate Bar': 406,\n",
    "    'Ice Cream Sundae': 342,\n",
    "}\n",
    "diet = pd.Series(calorie_info)\n",
    "diet"
   ]
  },
  {
   "cell_type": "code",
   "execution_count": 10,
   "id": "7b1fc82f99e6c2cd",
   "metadata": {},
   "outputs": [
    {
     "data": {
      "text/plain": [
       "0      red\n",
       "1    green\n",
       "2     blue\n",
       "dtype: object"
      ]
     },
     "execution_count": 10,
     "metadata": {},
     "output_type": "execute_result"
    }
   ],
   "source": [
    "# creating a Series with a tuple\n",
    "pd.Series(data=('red', 'green', 'blue'))"
   ]
  },
  {
   "cell_type": "code",
   "execution_count": null,
   "id": "a7bdb813",
   "metadata": {},
   "outputs": [],
   "source": []
  }
 ],
 "metadata": {
  "kernelspec": {
   "display_name": "Python 3",
   "language": "python",
   "name": "python3"
  },
  "language_info": {
   "codemirror_mode": {
    "name": "ipython",
    "version": 3
   },
   "file_extension": ".py",
   "mimetype": "text/x-python",
   "name": "python",
   "nbconvert_exporter": "python",
   "pygments_lexer": "ipython3",
   "version": "3.11.7"
  }
 },
 "nbformat": 4,
 "nbformat_minor": 5
}
