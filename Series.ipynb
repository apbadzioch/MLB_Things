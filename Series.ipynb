{
 "cells": [
  {
   "cell_type": "markdown",
   "id": "3b7a274720fc7cd0",
   "metadata": {},
   "source": [
    "# The Series Object"
   ]
  },
  {
   "cell_type": "markdown",
   "id": "397e1770",
   "metadata": {},
   "source": [
    "**Chapter Overview:**\n",
    "- instantiating Series objects from lists, dictionaries, tuples, and others\n",
    "- setting a custom index on a Series\n",
    "- accessing attributes and invoking methods on a Series\n",
    "- performing mathematical operations on one or more Series\n",
    "- passing the Series to Python's built-in functions"
   ]
  },
  {
   "cell_type": "code",
   "execution_count": 2,
   "id": "initial_id",
   "metadata": {
    "ExecuteTime": {
     "end_time": "2024-09-17T05:51:05.461363Z",
     "start_time": "2024-09-17T05:51:04.893751Z"
    },
    "collapsed": true
   },
   "outputs": [],
   "source": [
    "import pandas as pd\n",
    "import numpy as np"
   ]
  },
  {
   "cell_type": "markdown",
   "id": "c1dad6b8",
   "metadata": {},
   "source": [
    "- Pandas assigns each Series value a label (an identifier used to locate the value)\n",
    "- the library also assigns each Series value an order (a position in line)\n",
    "- "
   ]
  },
  {
   "cell_type": "markdown",
   "id": "f533dcd6136bba45",
   "metadata": {},
   "source": [
    "### Classes and Instances\n",
    "- a Class is a blueprint for a Python object\n",
    "- the pd.Series class is a template, and the next step is to create a concrete instance of it."
   ]
  },
  {
   "cell_type": "code",
   "execution_count": 3,
   "id": "cf7d39b3efe80ab7",
   "metadata": {
    "ExecuteTime": {
     "end_time": "2024-09-17T05:51:05.479804Z",
     "start_time": "2024-09-17T05:51:05.474591Z"
    }
   },
   "outputs": [
    {
     "data": {
      "text/plain": [
       "Series([], dtype: object)"
      ]
     },
     "execution_count": 3,
     "metadata": {},
     "output_type": "execute_result"
    }
   ],
   "source": [
    "# creating an instance from the class\n",
    "pd.Series()"
   ]
  },
  {
   "cell_type": "markdown",
   "id": "e32ccb8f",
   "metadata": {},
   "source": [
    "- a constructor is a method that builds an object from a class\n",
    "- an argument is an imput we pass to a method\n",
    "\n",
    "- variable = ['Python', 'list']\n",
    "- pd.Series(variable)\n",
    "- pd.Series is the constructor and variable is the argument"
   ]
  },
  {
   "cell_type": "code",
   "execution_count": 4,
   "id": "7fa3fa987cb633e1",
   "metadata": {
    "ExecuteTime": {
     "end_time": "2024-09-17T06:06:14.278422Z",
     "start_time": "2024-09-17T06:06:14.272878Z"
    }
   },
   "outputs": [
    {
     "data": {
      "text/plain": [
       "0            Chocolate\n",
       "1              Vanilla\n",
       "2           Strawberry\n",
       "3    Cookies and Cream\n",
       "dtype: object"
      ]
     },
     "execution_count": 4,
     "metadata": {},
     "output_type": "execute_result"
    }
   ],
   "source": [
    "# Series object from a Python list\n",
    "\n",
    "# a constructor is a method that builds an object. Here, Series() is the constructor that creates the object\n",
    "\n",
    "# an argument is an input passed to a method, here the variable\n",
    "\n",
    "ice_cream_flavors = [\"Chocolate\", \"Vanilla\", \"Strawberry\", \"Cookies and Cream\"]\n",
    "pd.Series(ice_cream_flavors)"
   ]
  },
  {
   "cell_type": "markdown",
   "id": "90cd92ff",
   "metadata": {},
   "source": [
    "- a parameter is a name given to an expected input to a function or method\n",
    "- it is what shows up witnin the parenthesis for something like pd.Series\n",
    "- Series constructor parameters: (data, index, dtype, name, copy, fastpath)"
   ]
  },
  {
   "cell_type": "code",
   "execution_count": 5,
   "id": "58dda444",
   "metadata": {},
   "outputs": [
    {
     "data": {
      "text/plain": [
       "monday               Chocolate\n",
       "wednesday              Vanilla\n",
       "friday              Strawberry\n",
       "saturaday    Cookies and Cream\n",
       "dtype: object"
      ]
     },
     "execution_count": 5,
     "metadata": {},
     "output_type": "execute_result"
    }
   ],
   "source": [
    "# setting a custom index\n",
    "pd.Series(ice_cream_flavors, index=['monday', 'wednesday', 'friday', 'saturaday'])"
   ]
  },
  {
   "cell_type": "code",
   "execution_count": 6,
   "id": "059d4803",
   "metadata": {},
   "outputs": [
    {
     "data": {
      "text/plain": [
       "open     985.90\n",
       "close    950.43\n",
       "dtype: float64"
      ]
     },
     "execution_count": 6,
     "metadata": {},
     "output_type": "execute_result"
    }
   ],
   "source": [
    "stock_prices = (985.9, 950.43)\n",
    "time_of_day = ('open', 'close')\n",
    "pd.Series(data=stock_prices, index=time_of_day)"
   ]
  },
  {
   "cell_type": "code",
   "execution_count": 7,
   "id": "dd539096aa8034e6",
   "metadata": {
    "ExecuteTime": {
     "end_time": "2024-09-17T06:25:31.389386Z",
     "start_time": "2024-09-17T06:25:31.363308Z"
    }
   },
   "outputs": [
    {
     "data": {
      "text/plain": [
       "Cereal              125\n",
       "Chocolate Bar       406\n",
       "Ice Cream Sundae    342\n",
       "dtype: int64"
      ]
     },
     "execution_count": 7,
     "metadata": {},
     "output_type": "execute_result"
    }
   ],
   "source": [
    "# creating a Series from Python object, a dictionary\n",
    "\n",
    "calorie_info = {\n",
    "    'Cereal': 125,\n",
    "    'Chocolate Bar': 406,\n",
    "    'Ice Cream Sundae': 342,\n",
    "}\n",
    "diet = pd.Series(calorie_info)\n",
    "diet"
   ]
  },
  {
   "cell_type": "code",
   "execution_count": 8,
   "id": "7b1fc82f99e6c2cd",
   "metadata": {},
   "outputs": [
    {
     "data": {
      "text/plain": [
       "0      red\n",
       "1    green\n",
       "2     blue\n",
       "dtype: object"
      ]
     },
     "execution_count": 8,
     "metadata": {},
     "output_type": "execute_result"
    }
   ],
   "source": [
    "# creating a Series with a tuple\n",
    "pd.Series(data=('red', 'green', 'blue'))"
   ]
  },
  {
   "cell_type": "markdown",
   "id": "1eb9d766",
   "metadata": {},
   "source": [
    "### Series Attributes\n",
    "- a piece of data belonging  to an object - a characteristic or detail that the data structure can reveal about itself\n",
    "- shape, size, values, index\n",
    "- attributes define an object's STATE"
   ]
  },
  {
   "cell_type": "code",
   "execution_count": 9,
   "id": "a7bdb813",
   "metadata": {},
   "outputs": [
    {
     "data": {
      "text/plain": [
       "array([125, 406, 342])"
      ]
     },
     "execution_count": 9,
     "metadata": {},
     "output_type": "execute_result"
    }
   ],
   "source": [
    "diet.values"
   ]
  },
  {
   "cell_type": "code",
   "execution_count": 12,
   "id": "0c62da39",
   "metadata": {},
   "outputs": [
    {
     "data": {
      "text/plain": [
       "Index(['Cereal', 'Chocolate Bar', 'Ice Cream Sundae'], dtype='object')"
      ]
     },
     "execution_count": 12,
     "metadata": {},
     "output_type": "execute_result"
    }
   ],
   "source": [
    "diet.index"
   ]
  },
  {
   "cell_type": "code",
   "execution_count": 13,
   "id": "55831149",
   "metadata": {},
   "outputs": [
    {
     "data": {
      "text/plain": [
       "dtype('int64')"
      ]
     },
     "execution_count": 13,
     "metadata": {},
     "output_type": "execute_result"
    }
   ],
   "source": [
    "diet.dtype"
   ]
  },
  {
   "cell_type": "code",
   "execution_count": 14,
   "id": "6bb02711",
   "metadata": {},
   "outputs": [
    {
     "data": {
      "text/plain": [
       "3"
      ]
     },
     "execution_count": 14,
     "metadata": {},
     "output_type": "execute_result"
    }
   ],
   "source": [
    "diet.size"
   ]
  },
  {
   "cell_type": "markdown",
   "id": "b9786609",
   "metadata": {},
   "source": [
    "### Series methods\n",
    "- a function that belongs to an object - an action or command that we ask the object to perform. \n",
    "- typically involve some analysis, calculation, of manipulation of the the object's attributes\n",
    "- methods define an object's BEHAVIOR"
   ]
  },
  {
   "cell_type": "code",
   "execution_count": 17,
   "id": "1f6f96e8",
   "metadata": {},
   "outputs": [],
   "source": [
    "values = range(0, 200, 5)\n",
    "nums = pd.Series(values)"
   ]
  },
  {
   "cell_type": "code",
   "execution_count": 18,
   "id": "073d50eb",
   "metadata": {},
   "outputs": [
    {
     "data": {
      "text/plain": [
       "0     0\n",
       "1     5\n",
       "2    10\n",
       "dtype: int64"
      ]
     },
     "execution_count": 18,
     "metadata": {},
     "output_type": "execute_result"
    }
   ],
   "source": [
    "nums.head(3)"
   ]
  },
  {
   "cell_type": "code",
   "execution_count": 19,
   "id": "09432fe3",
   "metadata": {},
   "outputs": [
    {
     "data": {
      "text/plain": [
       "37    185\n",
       "38    190\n",
       "39    195\n",
       "dtype: int64"
      ]
     },
     "execution_count": 19,
     "metadata": {},
     "output_type": "execute_result"
    }
   ],
   "source": [
    "nums.tail(3)"
   ]
  },
  {
   "cell_type": "code",
   "execution_count": 20,
   "id": "a7c9e18b",
   "metadata": {},
   "outputs": [
    {
     "data": {
      "text/plain": [
       "count     40.00000\n",
       "mean      97.50000\n",
       "std       58.45226\n",
       "min        0.00000\n",
       "25%       48.75000\n",
       "50%       97.50000\n",
       "75%      146.25000\n",
       "max      195.00000\n",
       "dtype: float64"
      ]
     },
     "execution_count": 20,
     "metadata": {},
     "output_type": "execute_result"
    }
   ],
   "source": [
    "nums.describe()"
   ]
  },
  {
   "cell_type": "markdown",
   "id": "fe58310a",
   "metadata": {},
   "source": [
    "### Mathematical Operations"
   ]
  },
  {
   "cell_type": "markdown",
   "id": "936cc0ec",
   "metadata": {},
   "source": [
    "#### Statistical Operations"
   ]
  },
  {
   "cell_type": "code",
   "execution_count": 21,
   "id": "cf5010b9",
   "metadata": {},
   "outputs": [
    {
     "data": {
      "text/plain": [
       "0    1.0\n",
       "1    2.0\n",
       "2    3.0\n",
       "3    NaN\n",
       "4    4.0\n",
       "5    5.0\n",
       "dtype: float64"
      ]
     },
     "execution_count": 21,
     "metadata": {},
     "output_type": "execute_result"
    }
   ],
   "source": [
    "numbers = pd.Series([1, 2, 3, np.nan, 4, 5])\n",
    "numbers"
   ]
  },
  {
   "cell_type": "code",
   "execution_count": 22,
   "id": "33552831",
   "metadata": {},
   "outputs": [
    {
     "data": {
      "text/plain": [
       "5"
      ]
     },
     "execution_count": 22,
     "metadata": {},
     "output_type": "execute_result"
    }
   ],
   "source": [
    "numbers.count()"
   ]
  },
  {
   "cell_type": "code",
   "execution_count": 23,
   "id": "590d9a97",
   "metadata": {},
   "outputs": [
    {
     "data": {
      "text/plain": [
       "15.0"
      ]
     },
     "execution_count": 23,
     "metadata": {},
     "output_type": "execute_result"
    }
   ],
   "source": [
    "numbers.sum()"
   ]
  },
  {
   "cell_type": "code",
   "execution_count": 24,
   "id": "efca38b2",
   "metadata": {},
   "outputs": [
    {
     "data": {
      "text/plain": [
       "120.0"
      ]
     },
     "execution_count": 24,
     "metadata": {},
     "output_type": "execute_result"
    }
   ],
   "source": [
    "numbers.product()"
   ]
  },
  {
   "cell_type": "code",
   "execution_count": 25,
   "id": "66aa81e1",
   "metadata": {},
   "outputs": [
    {
     "data": {
      "text/plain": [
       "3.0"
      ]
     },
     "execution_count": 25,
     "metadata": {},
     "output_type": "execute_result"
    }
   ],
   "source": [
    "numbers.mean()"
   ]
  },
  {
   "cell_type": "code",
   "execution_count": 26,
   "id": "b33acc7a",
   "metadata": {},
   "outputs": [
    {
     "data": {
      "text/plain": [
       "3.0"
      ]
     },
     "execution_count": 26,
     "metadata": {},
     "output_type": "execute_result"
    }
   ],
   "source": [
    "numbers.median()"
   ]
  },
  {
   "cell_type": "code",
   "execution_count": 27,
   "id": "6c792af7",
   "metadata": {},
   "outputs": [
    {
     "data": {
      "text/plain": [
       "1.5811388300841898"
      ]
     },
     "execution_count": 27,
     "metadata": {},
     "output_type": "execute_result"
    }
   ],
   "source": [
    "numbers.std()"
   ]
  },
  {
   "cell_type": "markdown",
   "id": "9d8a1226",
   "metadata": {},
   "source": [
    "#### Arithmetic Operations"
   ]
  },
  {
   "cell_type": "code",
   "execution_count": 28,
   "id": "d4025f38",
   "metadata": {},
   "outputs": [
    {
     "data": {
      "text/plain": [
       "a     5.0\n",
       "b     NaN\n",
       "c    15.0\n",
       "dtype: float64"
      ]
     },
     "execution_count": 28,
     "metadata": {},
     "output_type": "execute_result"
    }
   ],
   "source": [
    "s1 = pd.Series([5, np.nan, 15], index = ['a', 'b', 'c'])\n",
    "s1"
   ]
  },
  {
   "cell_type": "code",
   "execution_count": 29,
   "id": "05158142",
   "metadata": {},
   "outputs": [
    {
     "data": {
      "text/plain": [
       "a     8.0\n",
       "b     NaN\n",
       "c    18.0\n",
       "dtype: float64"
      ]
     },
     "execution_count": 29,
     "metadata": {},
     "output_type": "execute_result"
    }
   ],
   "source": [
    "s1+3"
   ]
  },
  {
   "cell_type": "code",
   "execution_count": 30,
   "id": "ca1c7e6f",
   "metadata": {},
   "outputs": [
    {
     "data": {
      "text/plain": [
       "a     0.0\n",
       "b     NaN\n",
       "c    10.0\n",
       "dtype: float64"
      ]
     },
     "execution_count": 30,
     "metadata": {},
     "output_type": "execute_result"
    }
   ],
   "source": [
    "s1-5"
   ]
  },
  {
   "cell_type": "markdown",
   "id": "9f05c6c4",
   "metadata": {},
   "source": [
    "#### Broadcasting"
   ]
  },
  {
   "cell_type": "code",
   "execution_count": 32,
   "id": "1440eea9",
   "metadata": {},
   "outputs": [],
   "source": [
    "s1 = pd.Series([1,2,3], index=['a','b','c'])\n",
    "s2 = pd.Series([4,5,6], index=['a','b','c'])"
   ]
  },
  {
   "cell_type": "code",
   "execution_count": 33,
   "id": "525ad6c2",
   "metadata": {},
   "outputs": [
    {
     "data": {
      "text/plain": [
       "a    5\n",
       "b    7\n",
       "c    9\n",
       "dtype: int64"
      ]
     },
     "execution_count": 33,
     "metadata": {},
     "output_type": "execute_result"
    }
   ],
   "source": [
    "s1 + s2"
   ]
  },
  {
   "cell_type": "code",
   "execution_count": 34,
   "id": "52e9d496",
   "metadata": {},
   "outputs": [
    {
     "data": {
      "text/plain": [
       "a    False\n",
       "b    False\n",
       "c    False\n",
       "dtype: bool"
      ]
     },
     "execution_count": 34,
     "metadata": {},
     "output_type": "execute_result"
    }
   ],
   "source": [
    "s1 == s2"
   ]
  },
  {
   "cell_type": "markdown",
   "id": "bf2938f1",
   "metadata": {},
   "source": [
    "## Coding Challenge\n",
    "1. Use the list of superheroes to populate a new Series object.\n",
    "2. Use the tuple of strengths to populate a new Series object.\n",
    "3. Create a Series with the superheroes as index labels and the strength levels as\n",
    "the values. Assign the Series to a heroes variable.\n",
    "4. Extract the first two rows of the heroes Series.\n",
    "5. Extract the last four rows of the heroes Series.\n",
    "6. Determine the number of unique values in your heroes Series.\n",
    "7. Calculate the average strength of the superheroes in heroes.\n",
    "8. Calculate the maximum and minimum strengths in heroes.\n",
    "9. Calculate what each superhero’s strength level would be if it doubled.\n",
    "10. Convert the heroes Series to a Python dictionary."
   ]
  },
  {
   "cell_type": "code",
   "execution_count": 35,
   "id": "d5d1c596",
   "metadata": {},
   "outputs": [],
   "source": [
    "superheroes = [\n",
    "    'Batman',\n",
    "    'Superman',\n",
    "    'Spider-Man',\n",
    "    'Iron Man',\n",
    "    'Captain America',\n",
    "    'Wonder Woman'\n",
    "]\n",
    "strength_level = (100, 120, 90, 95, 110, 120)"
   ]
  },
  {
   "cell_type": "code",
   "execution_count": 36,
   "id": "75f86428",
   "metadata": {},
   "outputs": [
    {
     "data": {
      "text/plain": [
       "0             Batman\n",
       "1           Superman\n",
       "2         Spider-Man\n",
       "3           Iron Man\n",
       "4    Captain America\n",
       "5       Wonder Woman\n",
       "dtype: object"
      ]
     },
     "execution_count": 36,
     "metadata": {},
     "output_type": "execute_result"
    }
   ],
   "source": [
    "# 1. superheroes to populate a new Series object\n",
    "pd.Series(superheroes)"
   ]
  },
  {
   "cell_type": "code",
   "execution_count": 37,
   "id": "f9aa1c93",
   "metadata": {},
   "outputs": [
    {
     "data": {
      "text/plain": [
       "0    100\n",
       "1    120\n",
       "2     90\n",
       "3     95\n",
       "4    110\n",
       "5    120\n",
       "dtype: int64"
      ]
     },
     "execution_count": 37,
     "metadata": {},
     "output_type": "execute_result"
    }
   ],
   "source": [
    "# 2. strengths to populate a new Series object\n",
    "pd.Series(strength_level)"
   ]
  },
  {
   "cell_type": "code",
   "execution_count": 41,
   "id": "4826f12b",
   "metadata": {},
   "outputs": [
    {
     "data": {
      "text/plain": [
       "Batman             100\n",
       "Superman           120\n",
       "Spider-Man          90\n",
       "Iron Man            95\n",
       "Captain America    110\n",
       "Wonder Woman       120\n",
       "dtype: int64"
      ]
     },
     "execution_count": 41,
     "metadata": {},
     "output_type": "execute_result"
    }
   ],
   "source": [
    "# 3. Create a Series with the superheroes as index labels and the strength levels as\n",
    "# the values. Assign the Series to a heroes variable\n",
    "heroes = pd.Series(data=strength_level, index=superheroes)\n",
    "heroes"
   ]
  },
  {
   "cell_type": "code",
   "execution_count": 42,
   "id": "2242bb6f",
   "metadata": {},
   "outputs": [
    {
     "data": {
      "text/plain": [
       "Batman      100\n",
       "Superman    120\n",
       "dtype: int64"
      ]
     },
     "execution_count": 42,
     "metadata": {},
     "output_type": "execute_result"
    }
   ],
   "source": [
    "# 4. Extract the first two rows of the heroes Series\n",
    "heroes.head(2)"
   ]
  },
  {
   "cell_type": "code",
   "execution_count": 43,
   "id": "fb4de8ad",
   "metadata": {},
   "outputs": [
    {
     "data": {
      "text/plain": [
       "Spider-Man          90\n",
       "Iron Man            95\n",
       "Captain America    110\n",
       "Wonder Woman       120\n",
       "dtype: int64"
      ]
     },
     "execution_count": 43,
     "metadata": {},
     "output_type": "execute_result"
    }
   ],
   "source": [
    "# 5. Extract the last four rows of the heroes Series\n",
    "heroes.tail(4)"
   ]
  },
  {
   "cell_type": "code",
   "execution_count": 46,
   "id": "b9c754f0",
   "metadata": {},
   "outputs": [
    {
     "data": {
      "text/plain": [
       "5"
      ]
     },
     "execution_count": 46,
     "metadata": {},
     "output_type": "execute_result"
    }
   ],
   "source": [
    "# 6. Determine the number of unique values in your heroes Series\n",
    "heroes.nunique()"
   ]
  },
  {
   "cell_type": "code",
   "execution_count": 49,
   "id": "acc09fac",
   "metadata": {},
   "outputs": [
    {
     "data": {
      "text/plain": [
       "105.83333333333333"
      ]
     },
     "execution_count": 49,
     "metadata": {},
     "output_type": "execute_result"
    }
   ],
   "source": [
    "# 7. Calculate the average strength of the superheroes in heroes\n",
    "heroes.mean()"
   ]
  },
  {
   "cell_type": "code",
   "execution_count": 51,
   "id": "21382c1e",
   "metadata": {},
   "outputs": [
    {
     "name": "stdout",
     "output_type": "stream",
     "text": [
      "heroes max: 120\n",
      "heroes min: 90\n"
     ]
    }
   ],
   "source": [
    "# 8. Calculate the maximum and minimum strengths in heroes\n",
    "print('heroes max:', heroes.max())\n",
    "print('heroes min:', heroes.min())"
   ]
  },
  {
   "cell_type": "code",
   "execution_count": 52,
   "id": "985ab3df",
   "metadata": {},
   "outputs": [
    {
     "data": {
      "text/plain": [
       "Batman             200\n",
       "Superman           240\n",
       "Spider-Man         180\n",
       "Iron Man           190\n",
       "Captain America    220\n",
       "Wonder Woman       240\n",
       "dtype: int64"
      ]
     },
     "execution_count": 52,
     "metadata": {},
     "output_type": "execute_result"
    }
   ],
   "source": [
    "# 9. Calculate what each superhero’s strength level would be if it doubled\n",
    "heroes*2"
   ]
  },
  {
   "cell_type": "code",
   "execution_count": 53,
   "id": "c2cc0bb9",
   "metadata": {},
   "outputs": [
    {
     "data": {
      "text/plain": [
       "{'Batman': 100,\n",
       " 'Superman': 120,\n",
       " 'Spider-Man': 90,\n",
       " 'Iron Man': 95,\n",
       " 'Captain America': 110,\n",
       " 'Wonder Woman': 120}"
      ]
     },
     "execution_count": 53,
     "metadata": {},
     "output_type": "execute_result"
    }
   ],
   "source": [
    "# 10. Convert the heroes Series to a Python dictionary\n",
    "heroes.to_dict()\n",
    "\n",
    "# or dict(heroes)"
   ]
  }
 ],
 "metadata": {
  "kernelspec": {
   "display_name": "Python 3",
   "language": "python",
   "name": "python3"
  },
  "language_info": {
   "codemirror_mode": {
    "name": "ipython",
    "version": 3
   },
   "file_extension": ".py",
   "mimetype": "text/x-python",
   "name": "python",
   "nbconvert_exporter": "python",
   "pygments_lexer": "ipython3",
   "version": "3.11.7"
  }
 },
 "nbformat": 4,
 "nbformat_minor": 5
}
