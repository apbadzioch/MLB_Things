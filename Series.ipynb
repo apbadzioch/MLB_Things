{
 "cells": [
  {
   "metadata": {},
   "cell_type": "markdown",
   "source": "# The Series Object",
   "id": "3b7a274720fc7cd0"
  },
  {
   "cell_type": "code",
   "id": "initial_id",
   "metadata": {
    "collapsed": true,
    "ExecuteTime": {
     "end_time": "2024-09-17T05:51:05.461363Z",
     "start_time": "2024-09-17T05:51:04.893751Z"
    }
   },
   "source": [
    "import pandas as pd\n",
    "import numpy as np\n",
    "from statsmodels.sandbox.regression.example_kernridge import index"
   ],
   "outputs": [],
   "execution_count": 1
  },
  {
   "metadata": {},
   "cell_type": "markdown",
   "source": [
    "### Classes and Instances\n",
    "- a Class is a blueprint for a Python object\n",
    "- the pd.Series class is a template, and the next step is to create a concrete instance of it."
   ],
   "id": "f533dcd6136bba45"
  },
  {
   "metadata": {
    "ExecuteTime": {
     "end_time": "2024-09-17T05:51:05.479804Z",
     "start_time": "2024-09-17T05:51:05.474591Z"
    }
   },
   "cell_type": "code",
   "source": [
    "# creating an instance from the class\n",
    "pd.Series()"
   ],
   "id": "cf7d39b3efe80ab7",
   "outputs": [
    {
     "data": {
      "text/plain": [
       "Series([], dtype: object)"
      ]
     },
     "execution_count": 2,
     "metadata": {},
     "output_type": "execute_result"
    }
   ],
   "execution_count": 2
  },
  {
   "metadata": {
    "ExecuteTime": {
     "end_time": "2024-09-17T06:06:14.278422Z",
     "start_time": "2024-09-17T06:06:14.272878Z"
    }
   },
   "cell_type": "code",
   "source": [
    "# Series object from a Python list\n",
    "\n",
    "# a constructor is a method that builds an object. Here, Series() is the constructor that creates the object\n",
    "\n",
    "# an argument is an input passed to a method, here the variable\n",
    "\n",
    "ice_cream_flavors = [\"Chocolate\", \"Vanilla\", \"Strawberry\", \"Cookies and Cream\"]\n",
    "pd.Series(ice_cream_flavors)"
   ],
   "id": "7fa3fa987cb633e1",
   "outputs": [
    {
     "data": {
      "text/plain": [
       "0            Chocolate\n",
       "1              Vanilla\n",
       "2           Strawberry\n",
       "3    Cookies and Cream\n",
       "dtype: object"
      ]
     },
     "execution_count": 8,
     "metadata": {},
     "output_type": "execute_result"
    }
   ],
   "execution_count": 8
  },
  {
   "metadata": {
    "ExecuteTime": {
     "end_time": "2024-09-17T06:25:31.389386Z",
     "start_time": "2024-09-17T06:25:31.363308Z"
    }
   },
   "cell_type": "code",
   "source": [
    "# creating a Series from Python object, a dictionary\n",
    "\n",
    "calorie_info = {\n",
    "    'Cereal': 125,\n",
    "    'Chocolate Bar': 406,\n",
    "    'Ice Cream Sundae': 342,\n",
    "}\n",
    "diet = pd.Series(calorie_info)\n",
    "diet"
   ],
   "id": "dd539096aa8034e6",
   "outputs": [
    {
     "data": {
      "text/plain": [
       "Cereal              125\n",
       "Chocolate Bar       406\n",
       "Ice Cream Sundae    342\n",
       "dtype: int64"
      ]
     },
     "execution_count": 21,
     "metadata": {},
     "output_type": "execute_result"
    }
   ],
   "execution_count": 21
  },
  {
   "metadata": {},
   "cell_type": "code",
   "outputs": [],
   "execution_count": null,
   "source": "",
   "id": "7b1fc82f99e6c2cd"
  }
 ],
 "metadata": {
  "kernelspec": {
   "display_name": "Python 3",
   "language": "python",
   "name": "python3"
  },
  "language_info": {
   "codemirror_mode": {
    "name": "ipython",
    "version": 2
   },
   "file_extension": ".py",
   "mimetype": "text/x-python",
   "name": "python",
   "nbconvert_exporter": "python",
   "pygments_lexer": "ipython2",
   "version": "2.7.6"
  }
 },
 "nbformat": 4,
 "nbformat_minor": 5
}
